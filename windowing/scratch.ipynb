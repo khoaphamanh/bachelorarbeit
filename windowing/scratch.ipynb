{
 "cells": [
  {
   "cell_type": "code",
   "execution_count": 19,
   "metadata": {},
   "outputs": [
    {
     "name": "stdout",
     "output_type": "stream",
     "text": [
      "a: tensor([[[-0.0425, -1.2378,  0.3265, -0.9915,  1.3749],\n",
      "         [-0.3638, -0.2614, -0.2109,  0.5516,  0.9428]]])\n",
      "b: tensor([[[ 1.0430, -0.4688, -0.7154,  1.2267,  0.6224],\n",
      "         [-1.8406, -1.3268,  0.8080,  1.6059, -0.0416]]])\n",
      "c: tensor([[[ 1.4931,  0.1347, -1.1590,  2.6858,  1.7739],\n",
      "         [ 0.6319,  0.6445, -0.3881,  1.7773,  0.5696]]])\n",
      "d: tensor([[[-0.0425, -1.2378,  0.3265, -0.9915,  1.3749],\n",
      "         [-0.3638, -0.2614, -0.2109,  0.5516,  0.9428]],\n",
      "\n",
      "        [[ 1.0430, -0.4688, -0.7154,  1.2267,  0.6224],\n",
      "         [-1.8406, -1.3268,  0.8080,  1.6059, -0.0416]],\n",
      "\n",
      "        [[ 1.4931,  0.1347, -1.1590,  2.6858,  1.7739],\n",
      "         [ 0.6319,  0.6445, -0.3881,  1.7773,  0.5696]]])\n"
     ]
    }
   ],
   "source": [
    "import torch\n",
    "torch.manual_seed(1998)\n",
    "\n",
    "a = torch.randn(1,2,5)\n",
    "print(\"a:\", a)\n",
    "b = torch.randn(1,2,5)\n",
    "print(\"b:\", b)\n",
    "c = torch.randn(1,2,5)\n",
    "print(\"c:\", c)\n",
    "\n",
    "d = torch.cat((a,b,c))\n",
    "print(\"d:\", d)"
   ]
  },
  {
   "cell_type": "code",
   "execution_count": 20,
   "metadata": {},
   "outputs": [
    {
     "name": "stdout",
     "output_type": "stream",
     "text": [
      "d: tensor([[[-0.0425, -1.2378,  0.3265, -0.9915,  1.3749],\n",
      "         [-0.3638, -0.2614, -0.2109,  0.5516,  0.9428]],\n",
      "\n",
      "        [[ 1.0430, -0.4688, -0.7154,  1.2267,  0.6224],\n",
      "         [-1.8406, -1.3268,  0.8080,  1.6059, -0.0416]],\n",
      "\n",
      "        [[ 1.4931,  0.1347, -1.1590,  2.6858,  1.7739],\n",
      "         [ 0.6319,  0.6445, -0.3881,  1.7773,  0.5696]]])\n",
      "d shape: torch.Size([3, 2, 5])\n"
     ]
    }
   ],
   "source": [
    "import torch\n",
    "\n",
    "# set the seed for reproducibility\n",
    "torch.manual_seed(1998)\n",
    "\n",
    "# create three tensors\n",
    "a = torch.randn(1, 2, 5)\n",
    "b = torch.randn(1, 2, 5)\n",
    "c = torch.randn(1, 2, 5)\n",
    "\n",
    "# concatenate the tensors in a loop\n",
    "d = None\n",
    "for tensor in [a, b, c]:\n",
    "    if d is None:\n",
    "        d = tensor\n",
    "    else:\n",
    "        d = torch.cat((d, tensor), dim=0)\n",
    "\n",
    "print(\"d:\", d)\n",
    "print(\"d shape:\", d.shape)\n"
   ]
  },
  {
   "cell_type": "code",
   "execution_count": 22,
   "metadata": {},
   "outputs": [
    {
     "name": "stdout",
     "output_type": "stream",
     "text": [
      "tensor([[[-0.0425, -1.2378,  0.3265, -0.9915,  1.3749],\n",
      "         [-0.3638, -0.2614, -0.2109,  0.5516,  0.9428]],\n",
      "\n",
      "        [[ 1.0430, -0.4688, -0.7154,  1.2267,  0.6224],\n",
      "         [-1.8406, -1.3268,  0.8080,  1.6059, -0.0416]],\n",
      "\n",
      "        [[ 1.4931,  0.1347, -1.1590,  2.6858,  1.7739],\n",
      "         [ 0.6319,  0.6445, -0.3881,  1.7773,  0.5696]],\n",
      "\n",
      "        [[-2.6679,  0.5392, -0.7834, -0.1990,  0.5612],\n",
      "         [-1.2274,  0.0555, -1.0306, -0.7704, -0.0169]],\n",
      "\n",
      "        [[-0.0129, -0.3114, -1.5811, -1.8386,  0.0603],\n",
      "         [-1.3166, -0.3594,  1.3553, -0.0824,  0.1377]],\n",
      "\n",
      "        [[-1.2240,  1.5110,  0.1946, -1.6055,  1.3390],\n",
      "         [ 1.4399,  1.8787,  0.4816, -0.0916,  1.1109]],\n",
      "\n",
      "        [[-0.0713, -0.6167,  1.2817,  1.5684,  0.2291],\n",
      "         [-1.5450, -0.4998,  1.5983, -1.3581, -0.4392]],\n",
      "\n",
      "        [[-1.2058, -1.2961,  0.1553,  1.2397,  0.6901],\n",
      "         [ 0.8224,  0.8444,  0.1052,  0.2202, -0.8280]],\n",
      "\n",
      "        [[ 0.1093,  0.9359,  0.5486, -0.7403, -1.5950],\n",
      "         [-0.5269, -0.6531,  0.3451,  0.9696, -0.6259]],\n",
      "\n",
      "        [[ 0.1025, -0.1731,  0.5031,  0.5011, -1.2983],\n",
      "         [ 0.9430,  1.0671, -0.9244,  1.2323,  0.3391]]])\n",
      "torch.Size([10, 2, 5])\n"
     ]
    }
   ],
   "source": [
    "import torch\n",
    "\n",
    "# set the seed for reproducibility\n",
    "torch.manual_seed(1998)\n",
    "num = 10\n",
    "d = None\n",
    "for i in range (num):\n",
    "    a = torch.randn(1,2,5)\n",
    "    if d == None:\n",
    "        d = a\n",
    "    else:\n",
    "        d = torch.cat((d,a),dim = 0)\n",
    "\n",
    "print(d)\n",
    "print(d.shape)\n",
    "        "
   ]
  },
  {
   "cell_type": "code",
   "execution_count": 23,
   "metadata": {},
   "outputs": [
    {
     "name": "stdout",
     "output_type": "stream",
     "text": [
      "tensor([[[-0.0425, -1.2378,  0.3265, -0.9915,  1.3749],\n",
      "         [-0.3638, -0.2614, -0.2109,  0.5516,  0.9428]],\n",
      "\n",
      "        [[ 1.0430, -0.4688, -0.7154,  1.2267,  0.6224],\n",
      "         [-1.8406, -1.3268,  0.8080,  1.6059, -0.0416]],\n",
      "\n",
      "        [[ 1.4931,  0.1347, -1.1590,  2.6858,  1.7739],\n",
      "         [ 0.6319,  0.6445, -0.3881,  1.7773,  0.5696]],\n",
      "\n",
      "        [[-2.6679,  0.5392, -0.7834, -0.1990,  0.5612],\n",
      "         [-1.2274,  0.0555, -1.0306, -0.7704, -0.0169]],\n",
      "\n",
      "        [[-0.0129, -0.3114, -1.5811, -1.8386,  0.0603],\n",
      "         [-1.3166, -0.3594,  1.3553, -0.0824,  0.1377]],\n",
      "\n",
      "        [[-1.2240,  1.5110,  0.1946, -1.6055,  1.3390],\n",
      "         [ 1.4399,  1.8787,  0.4816, -0.0916,  1.1109]],\n",
      "\n",
      "        [[-0.0713, -0.6167,  1.2817,  1.5684,  0.2291],\n",
      "         [-1.5450, -0.4998,  1.5983, -1.3581, -0.4392]],\n",
      "\n",
      "        [[-1.2058, -1.2961,  0.1553,  1.2397,  0.6901],\n",
      "         [ 0.8224,  0.8444,  0.1052,  0.2202, -0.8280]],\n",
      "\n",
      "        [[ 0.1093,  0.9359,  0.5486, -0.7403, -1.5950],\n",
      "         [-0.5269, -0.6531,  0.3451,  0.9696, -0.6259]],\n",
      "\n",
      "        [[ 0.1025, -0.1731,  0.5031,  0.5011, -1.2983],\n",
      "         [ 0.9430,  1.0671, -0.9244,  1.2323,  0.3391]]])\n",
      "torch.Size([10, 2, 5])\n"
     ]
    }
   ],
   "source": [
    "import torch\n",
    "\n",
    "# set the seed for reproducibility\n",
    "torch.manual_seed(1998)\n",
    "num = 10\n",
    "d = torch.empty(num,2,5)\n",
    "for i in range (num):\n",
    "    a = torch.randn(1,2,5)\n",
    "    d[i] = a\n",
    "\n",
    "print(d)\n",
    "print(d.shape)\n",
    "        "
   ]
  },
  {
   "cell_type": "code",
   "execution_count": 24,
   "metadata": {},
   "outputs": [
    {
     "name": "stdout",
     "output_type": "stream",
     "text": [
      "[ 0  3 10 20]\n"
     ]
    }
   ],
   "source": [
    "import numpy as np\n",
    "\n",
    "arr = np.array([0, 3, 7, 10])\n",
    "opposite_diff = np.cumsum(arr)\n",
    "\n",
    "print(opposite_diff)  # Output: [0 3 10 20]\n"
   ]
  },
  {
   "cell_type": "code",
   "execution_count": 30,
   "metadata": {},
   "outputs": [
    {
     "name": "stdout",
     "output_type": "stream",
     "text": [
      "b: [2803 3674 4585 5382 5897 7534]\n"
     ]
    }
   ],
   "source": [
    "import numpy as np\n",
    "\n",
    "a = {11: 2803, 12: 871, 21: 911, 22: 797, 31: 515, 32: 1637}\n",
    "b = np.cumsum([a[key] for key in a.keys()])\n",
    "print(\"b:\", b)"
   ]
  },
  {
   "cell_type": "code",
   "execution_count": 35,
   "metadata": {},
   "outputs": [
    {
     "name": "stdout",
     "output_type": "stream",
     "text": [
      "a: [[ 0.59950201 -0.66277892  0.9696664   1.6049337   1.05578184 -1.36338263\n",
      "   0.85234066 -0.63471524 -0.9423559   0.1100589 ]]\n"
     ]
    },
    {
     "name": "stderr",
     "output_type": "stream",
     "text": [
      "<>:5: SyntaxWarning: 'float' object is not callable; perhaps you missed a comma?\n",
      "<>:5: SyntaxWarning: 'float' object is not callable; perhaps you missed a comma?\n",
      "/var/folders/rr/kr1f9bzj1p75mdz4_tr4hc480000gn/T/ipykernel_4522/3903341760.py:5: SyntaxWarning: 'float' object is not callable; perhaps you missed a comma?\n",
      "  print(1.0(a))\n",
      "/var/folders/rr/kr1f9bzj1p75mdz4_tr4hc480000gn/T/ipykernel_4522/3903341760.py:5: SyntaxWarning: 'float' object is not callable; perhaps you missed a comma?\n",
      "  print(1.0(a))\n",
      "/var/folders/rr/kr1f9bzj1p75mdz4_tr4hc480000gn/T/ipykernel_4522/3903341760.py:5: SyntaxWarning: 'float' object is not callable; perhaps you missed a comma?\n",
      "  print(1.0(a))\n",
      "/var/folders/rr/kr1f9bzj1p75mdz4_tr4hc480000gn/T/ipykernel_4522/3903341760.py:5: SyntaxWarning: 'float' object is not callable; perhaps you missed a comma?\n",
      "  print(1.0(a))\n"
     ]
    },
    {
     "ename": "TypeError",
     "evalue": "'float' object is not callable",
     "output_type": "error",
     "traceback": [
      "\u001b[0;31m---------------------------------------------------------------------------\u001b[0m",
      "\u001b[0;31mTypeError\u001b[0m                                 Traceback (most recent call last)",
      "Cell \u001b[0;32mIn[35], line 5\u001b[0m\n\u001b[1;32m      3\u001b[0m a \u001b[39m=\u001b[39m np\u001b[39m.\u001b[39mrandom\u001b[39m.\u001b[39mrandn(\u001b[39m1\u001b[39m,\u001b[39m10\u001b[39m)\n\u001b[1;32m      4\u001b[0m \u001b[39mprint\u001b[39m(\u001b[39m\"\u001b[39m\u001b[39ma:\u001b[39m\u001b[39m\"\u001b[39m, a)\n\u001b[0;32m----> 5\u001b[0m \u001b[39mprint\u001b[39m(\u001b[39m1.0\u001b[39;49m(a))\n",
      "\u001b[0;31mTypeError\u001b[0m: 'float' object is not callable"
     ]
    }
   ],
   "source": [
    "import numpy as np\n",
    "\n",
    "a = np.random.randn(1,10)\n",
    "print(\"a:\", a)\n",
    "print(1.0(a))"
   ]
  }
 ],
 "metadata": {
  "kernelspec": {
   "display_name": "khoa",
   "language": "python",
   "name": "python3"
  },
  "language_info": {
   "codemirror_mode": {
    "name": "ipython",
    "version": 3
   },
   "file_extension": ".py",
   "mimetype": "text/x-python",
   "name": "python",
   "nbconvert_exporter": "python",
   "pygments_lexer": "ipython3",
   "version": "3.10.10"
  },
  "orig_nbformat": 4
 },
 "nbformat": 4,
 "nbformat_minor": 2
}
